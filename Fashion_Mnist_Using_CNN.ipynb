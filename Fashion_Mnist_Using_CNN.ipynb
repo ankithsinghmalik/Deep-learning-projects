{
  "nbformat": 4,
  "nbformat_minor": 0,
  "metadata": {
    "colab": {
      "name": "Fashion Mnist Using CNN.ipynb",
      "provenance": []
    },
    "kernelspec": {
      "name": "python3",
      "display_name": "Python 3"
    },
    "accelerator": "GPU"
  },
  "cells": [
    {
      "cell_type": "markdown",
      "metadata": {
        "id": "2ZRdiLXYosze"
      },
      "source": [
        "FASHION MNIST\r\n",
        "Label\tDescription\r\n",
        "\r\n",
        "0\tT-shirt/top\r\n",
        "\r\n",
        "1\tTrouser\r\n",
        "\r\n",
        "2\tPullover\r\n",
        "\r\n",
        "3\tDress\r\n",
        "\r\n",
        "4\tCoat\r\n",
        "\r\n",
        "5\tSandal\r\n",
        "\r\n",
        "6\tShirt\r\n",
        "\r\n",
        "7\tSneaker\r\n",
        "\r\n",
        "8\tBag\r\n",
        "\r\n",
        "9\tAnkle boot"
      ]
    },
    {
      "cell_type": "code",
      "metadata": {
        "id": "-k--fZYCoe0K"
      },
      "source": [
        "# IMPORTING THE PACKAGES/DEPENDENCIES\r\n",
        "import tensorflow as tf\r\n",
        "import numpy as np\r\n",
        "from tensorflow.keras.models import Sequential\r\n",
        "from tensorflow.keras.layers import Dense,Conv2D,Flatten,MaxPooling2D\r\n",
        "from tensorflow.keras.datasets import fashion_mnist\r\n",
        "from sklearn.model_selection import train_test_split\r\n",
        "from keras.utils import np_utils\r\n",
        "import matplotlib.pyplot as plt\r\n"
      ],
      "execution_count": 1,
      "outputs": []
    },
    {
      "cell_type": "code",
      "metadata": {
        "colab": {
          "base_uri": "https://localhost:8080/"
        },
        "id": "3YY1IuvPouCF",
        "outputId": "15a0b811-3f70-4736-f2ef-673c82c518f6"
      },
      "source": [
        "#loading the data\r\n",
        "(x_train,y_train),(x_test,y_test) = fashion_mnist.load_data()"
      ],
      "execution_count": 2,
      "outputs": [
        {
          "output_type": "stream",
          "text": [
            "Downloading data from https://storage.googleapis.com/tensorflow/tf-keras-datasets/train-labels-idx1-ubyte.gz\n",
            "32768/29515 [=================================] - 0s 0us/step\n",
            "Downloading data from https://storage.googleapis.com/tensorflow/tf-keras-datasets/train-images-idx3-ubyte.gz\n",
            "26427392/26421880 [==============================] - 0s 0us/step\n",
            "Downloading data from https://storage.googleapis.com/tensorflow/tf-keras-datasets/t10k-labels-idx1-ubyte.gz\n",
            "8192/5148 [===============================================] - 0s 0us/step\n",
            "Downloading data from https://storage.googleapis.com/tensorflow/tf-keras-datasets/t10k-images-idx3-ubyte.gz\n",
            "4423680/4422102 [==============================] - 0s 0us/step\n"
          ],
          "name": "stdout"
        }
      ]
    },
    {
      "cell_type": "code",
      "metadata": {
        "colab": {
          "base_uri": "https://localhost:8080/"
        },
        "id": "UbMGveESuxcO",
        "outputId": "065b4ef2-3f46-4233-ca0b-1e807aa4fd01"
      },
      "source": [
        "x_train.shape"
      ],
      "execution_count": 3,
      "outputs": [
        {
          "output_type": "execute_result",
          "data": {
            "text/plain": [
              "(60000, 28, 28)"
            ]
          },
          "metadata": {
            "tags": []
          },
          "execution_count": 3
        }
      ]
    },
    {
      "cell_type": "code",
      "metadata": {
        "colab": {
          "base_uri": "https://localhost:8080/"
        },
        "id": "bsmxrnrMu3FY",
        "outputId": "88ff6363-a741-49be-8130-63d195ee420c"
      },
      "source": [
        "print(x_test.shape)\r\n",
        "print(y_train.shape)"
      ],
      "execution_count": 4,
      "outputs": [
        {
          "output_type": "stream",
          "text": [
            "(10000, 28, 28)\n",
            "(60000,)\n"
          ],
          "name": "stdout"
        }
      ]
    },
    {
      "cell_type": "code",
      "metadata": {
        "colab": {
          "base_uri": "https://localhost:8080/"
        },
        "id": "EFSrY7FKvBlY",
        "outputId": "cd9b97f6-9b76-47a5-80c5-1588ff8db672"
      },
      "source": [
        "x_train[3]"
      ],
      "execution_count": 5,
      "outputs": [
        {
          "output_type": "execute_result",
          "data": {
            "text/plain": [
              "array([[  0,   0,   0,   0,   0,   0,   0,   0,  33,  96, 175, 156,  64,\n",
              "         14,  54, 137, 204, 194, 102,   0,   0,   0,   0,   0,   0,   0,\n",
              "          0,   0],\n",
              "       [  0,   0,   0,   0,   0,   0,  73, 186, 177, 183, 175, 188, 232,\n",
              "        255, 223, 219, 194, 179, 186, 213, 146,   0,   0,   0,   0,   0,\n",
              "          0,   0],\n",
              "       [  0,   0,   0,   0,   0,  35, 163, 140, 150, 152, 150, 146, 175,\n",
              "        175, 173, 171, 156, 152, 148, 129, 156, 140,   0,   0,   0,   0,\n",
              "          0,   0],\n",
              "       [  0,   0,   0,   0,   0, 150, 142, 140, 152, 160, 156, 146, 142,\n",
              "        127, 135, 133, 140, 140, 137, 133, 125, 169,  75,   0,   0,   0,\n",
              "          0,   0],\n",
              "       [  0,   0,   0,   0,   0,  54, 167, 146, 129, 142, 137, 137, 131,\n",
              "        148, 148, 133, 131, 131, 131, 125, 140, 140,   0,   0,   0,   0,\n",
              "          0,   0],\n",
              "       [  0,   0,   0,   0,   0,   0, 110, 188, 133, 146, 152, 133, 125,\n",
              "        127, 119, 129, 133, 119, 140, 131, 150,  14,   0,   0,   0,   0,\n",
              "          0,   0],\n",
              "       [  0,   0,   0,   0,   0,   0,   0, 221, 158, 137, 135, 123, 110,\n",
              "        110, 114, 108, 112, 117, 127, 142,  77,   0,   0,   0,   0,   0,\n",
              "          0,   0],\n",
              "       [  0,   0,   0,   0,   0,   4,   0,  25, 158, 137, 125, 119, 119,\n",
              "        110, 117, 117, 110, 119, 127, 144,   0,   0,   0,   0,   0,   0,\n",
              "          0,   0],\n",
              "       [  0,   0,   0,   0,   0,   0,   0,   0, 123, 156, 129, 112, 110,\n",
              "        102, 112, 100, 121, 117, 129, 114,   0,   0,   0,   0,   0,   0,\n",
              "          0,   0],\n",
              "       [  0,   0,   0,   0,   0,   0,   0,   0, 125, 169, 127, 119, 106,\n",
              "        108, 104,  94, 121, 114, 129,  91,   0,   0,   0,   0,   0,   0,\n",
              "          0,   0],\n",
              "       [  0,   0,   0,   0,   0,   0,   2,   0,  98, 171, 129, 112, 104,\n",
              "        114, 106, 102, 112, 104, 133,  64,   0,   4,   0,   0,   0,   0,\n",
              "          0,   0],\n",
              "       [  0,   0,   0,   0,   0,   0,   2,   0,  66, 173, 135, 129,  98,\n",
              "        100, 119, 102, 108,  98, 135,  60,   0,   4,   0,   0,   0,   0,\n",
              "          0,   0],\n",
              "       [  0,   0,   0,   0,   0,   0,   2,   0,  56, 171, 135, 127, 100,\n",
              "        108, 117,  85, 106, 110, 135,  66,   0,   4,   0,   0,   0,   0,\n",
              "          0,   0],\n",
              "       [  0,   0,   0,   0,   0,   0,   0,   0,  52, 150, 129, 110, 100,\n",
              "         91, 102,  94,  83, 104, 123,  66,   0,   4,   0,   0,   0,   0,\n",
              "          0,   0],\n",
              "       [  0,   0,   0,   0,   0,   0,   2,   0,  66, 167, 140, 148, 148,\n",
              "        127, 137, 152, 146, 146, 148,  96,   0,   0,   0,   0,   0,   0,\n",
              "          0,   0],\n",
              "       [  0,   0,   0,   0,   0,   0,   0,   0,  45, 123,  94, 104,  96,\n",
              "        119, 121, 106,  98, 112,  87, 114,   0,   0,   0,   0,   0,   0,\n",
              "          0,   0],\n",
              "       [  0,   0,   0,   0,   0,   0,   0,   0, 106,  89,  58,  50,  37,\n",
              "         50,  66,  56,  50,  75,  75, 137,  22,   0,   2,   0,   0,   0,\n",
              "          0,   0],\n",
              "       [  0,   0,   0,   0,   0,   2,   0,  29, 148, 114, 106, 125,  89,\n",
              "        100, 133, 117, 131, 131, 131, 125, 112,   0,   0,   0,   0,   0,\n",
              "          0,   0],\n",
              "       [  0,   0,   0,   0,   0,   0,   0, 100, 106, 114,  91, 137,  62,\n",
              "        102, 131,  89, 135, 112, 131, 108, 135,  37,   0,   0,   0,   0,\n",
              "          0,   0],\n",
              "       [  0,   0,   0,   0,   0,   0,   0, 146, 100, 108,  98, 144,  62,\n",
              "        106, 131,  87, 133, 104, 160, 117, 121,  68,   0,   0,   0,   0,\n",
              "          0,   0],\n",
              "       [  0,   0,   0,   0,   0,   0,  33, 121, 108,  96, 100, 140,  71,\n",
              "        106, 127,  85, 140, 104, 150, 140, 114,  89,   0,   0,   0,   0,\n",
              "          0,   0],\n",
              "       [  0,   0,   0,   0,   0,   0,  62, 119, 112, 102, 110, 137,  75,\n",
              "        106, 144,  81, 144, 108, 117, 154, 117, 104,  18,   0,   0,   0,\n",
              "          0,   0],\n",
              "       [  0,   0,   0,   0,   0,   0,  66, 121, 102, 112, 117, 131,  73,\n",
              "        104, 156,  77, 137, 135,  83, 179, 129, 121,  35,   0,   0,   0,\n",
              "          0,   0],\n",
              "       [  0,   0,   0,   0,   0,   0,  85, 127,  81, 125, 133, 119,  79,\n",
              "        100, 169,  83, 129, 175,  60, 163, 135, 146,  39,   0,   0,   0,\n",
              "          0,   0],\n",
              "       [  0,   0,   0,   0,   0,   0, 106, 129,  62, 140, 144, 108,  85,\n",
              "         83, 158,  85, 129, 175,  48, 146, 133, 135,  64,   0,   0,   0,\n",
              "          0,   0],\n",
              "       [  0,   0,   0,   0,   0,   0, 117, 119,  79, 140, 152, 102,  89,\n",
              "        110, 137,  96, 150, 196,  83, 144, 135, 133,  77,   0,   0,   0,\n",
              "          0,   0],\n",
              "       [  0,   0,   0,   0,   0,   0, 154, 121,  87, 140, 154, 112,  94,\n",
              "         52, 142, 100,  83, 152,  85, 160, 133, 100,  12,   0,   0,   0,\n",
              "          0,   0],\n",
              "       [  0,   0,   0,   0,   0,   0,   4,   0,   2,   0,  35,   4,  33,\n",
              "          0,   0,   0,   0,   0,   0,   0,   0,   0,   0,   0,   0,   0,\n",
              "          0,   0]], dtype=uint8)"
            ]
          },
          "metadata": {
            "tags": []
          },
          "execution_count": 5
        }
      ]
    },
    {
      "cell_type": "code",
      "metadata": {
        "colab": {
          "base_uri": "https://localhost:8080/",
          "height": 1000
        },
        "id": "4Ld5F2OjvOqw",
        "outputId": "a5aec73f-3893-4a6e-b6ad-6a5ca00561f8"
      },
      "source": [
        "# visualize the image\r\n",
        "for i in range(10):\r\n",
        "  plt.imshow(x_train[i],cmap = 'gray')\r\n",
        "  plt.show()"
      ],
      "execution_count": 6,
      "outputs": [
        {
          "output_type": "display_data",
          "data": {
            "image/png": "[encoded data removed]",
            "text/plain": [
              "<Figure size 432x288 with 1 Axes>"
            ]
          },
          "metadata": {
            "tags": [],
            "needs_background": "light"
          }
        },
        {
          "output_type": "display_data",
          "data": {
            "image/png": "[encoded data removed]",
            "text/plain": [
              "<Figure size 432x288 with 1 Axes>"
            ]
          },
          "metadata": {
            "tags": [],
            "needs_background": "light"
          }
        },
        {
          "output_type": "display_data",
          "data": {
            "image/png": "[encoded data removed]",
            "text/plain": [
              "<Figure size 432x288 with 1 Axes>"
            ]
          },
          "metadata": {
            "tags": [],
            "needs_background": "light"
          }
        },
        {
          "output_type": "display_data",
          "data": {
            "image/png": "[encoded data removed]",
            "text/plain": [
              "<Figure size 432x288 with 1 Axes>"
            ]
          },
          "metadata": {
            "tags": [],
            "needs_background": "light"
          }
        },
        {
          "output_type": "display_data",
          "data": {
            "image/png": "[encoded data removed]",
            "text/plain": [
              "<Figure size 432x288 with 1 Axes>"
            ]
          },
          "metadata": {
            "tags": [],
            "needs_background": "light"
          }
        },
        {
          "output_type": "display_data",
          "data": {
            "image/png": "[encoded data removed]",
            "text/plain": [
              "<Figure size 432x288 with 1 Axes>"
            ]
          },
          "metadata": {
            "tags": [],
            "needs_background": "light"
          }
        },
        {
          "output_type": "display_data",
          "data": {
            "image/png": "[encoded data removed]",
            "text/plain": [
              "<Figure size 432x288 with 1 Axes>"
            ]
          },
          "metadata": {
            "tags": [],
            "needs_background": "light"
          }
        },
        {
          "output_type": "display_data",
          "data": {
            "image/png": "[encoded data removed]",
            "text/plain": [
              "<Figure size 432x288 with 1 Axes>"
            ]
          },
          "metadata": {
            "tags": [],
            "needs_background": "light"
          }
        },
        {
          "output_type": "display_data",
          "data": {
            "image/png": "[encoded data removed]",
            "text/plain": [
              "<Figure size 432x288 with 1 Axes>"
            ]
          },
          "metadata": {
            "tags": [],
            "needs_background": "light"
          }
        },
        {
          "output_type": "display_data",
          "data": {
            "image/png": "[encoded data removed]",
            "text/plain": [
              "<Figure size 432x288 with 1 Axes>"
            ]
          },
          "metadata": {
            "tags": [],
            "needs_background": "light"
          }
        }
      ]
    },
    {
      "cell_type": "code",
      "metadata": {
        "colab": {
          "base_uri": "https://localhost:8080/"
        },
        "id": "3bteyVLBvl5-",
        "outputId": "840e753d-5193-4786-d824-a3f22b945c66"
      },
      "source": [
        "y_train"
      ],
      "execution_count": 7,
      "outputs": [
        {
          "output_type": "execute_result",
          "data": {
            "text/plain": [
              "array([9, 0, 0, ..., 3, 0, 5], dtype=uint8)"
            ]
          },
          "metadata": {
            "tags": []
          },
          "execution_count": 7
        }
      ]
    },
    {
      "cell_type": "code",
      "metadata": {
        "colab": {
          "base_uri": "https://localhost:8080/"
        },
        "id": "mY-ERcH6v_jY",
        "outputId": "6fb8b283-a095-4b12-8dd1-298263e687bb"
      },
      "source": [
        "np.unique(y_train)"
      ],
      "execution_count": 8,
      "outputs": [
        {
          "output_type": "execute_result",
          "data": {
            "text/plain": [
              "array([0, 1, 2, 3, 4, 5, 6, 7, 8, 9], dtype=uint8)"
            ]
          },
          "metadata": {
            "tags": []
          },
          "execution_count": 8
        }
      ]
    },
    {
      "cell_type": "code",
      "metadata": {
        "id": "7oV21Uj_wKwe"
      },
      "source": [
        "#normalizing our dataset images from values of pixels between 0-255 to 0-1\r\n",
        "x_train = x_train/255\r\n",
        "x_test = x_test/255"
      ],
      "execution_count": 9,
      "outputs": []
    },
    {
      "cell_type": "code",
      "metadata": {
        "colab": {
          "base_uri": "https://localhost:8080/"
        },
        "id": "N1-mzP1Uwpe2",
        "outputId": "92a58c22-1ab0-4a1c-d177-3c000691318a"
      },
      "source": [
        "x_train[3]"
      ],
      "execution_count": 10,
      "outputs": [
        {
          "output_type": "execute_result",
          "data": {
            "text/plain": [
              "array([[0.        , 0.        , 0.        , 0.        , 0.        ,\n",
              "        0.        , 0.        , 0.        , 0.12941176, 0.37647059,\n",
              "        0.68627451, 0.61176471, 0.25098039, 0.05490196, 0.21176471,\n",
              "        0.5372549 , 0.8       , 0.76078431, 0.4       , 0.        ,\n",
              "        0.        , 0.        , 0.        , 0.        , 0.        ,\n",
              "        0.        , 0.        , 0.        ],\n",
              "       [0.        , 0.        , 0.        , 0.        , 0.        ,\n",
              "        0.        , 0.28627451, 0.72941176, 0.69411765, 0.71764706,\n",
              "        0.68627451, 0.7372549 , 0.90980392, 1.        , 0.8745098 ,\n",
              "        0.85882353, 0.76078431, 0.70196078, 0.72941176, 0.83529412,\n",
              "        0.57254902, 0.        , 0.        , 0.        , 0.        ,\n",
              "        0.        , 0.        , 0.        ],\n",
              "       [0.        , 0.        , 0.        , 0.        , 0.        ,\n",
              "        0.1372549 , 0.63921569, 0.54901961, 0.58823529, 0.59607843,\n",
              "        0.58823529, 0.57254902, 0.68627451, 0.68627451, 0.67843137,\n",
              "        0.67058824, 0.61176471, 0.59607843, 0.58039216, 0.50588235,\n",
              "        0.61176471, 0.54901961, 0.        , 0.        , 0.        ,\n",
              "        0.        , 0.        , 0.        ],\n",
              "       [0.        , 0.        , 0.        , 0.        , 0.        ,\n",
              "        0.58823529, 0.55686275, 0.54901961, 0.59607843, 0.62745098,\n",
              "        0.61176471, 0.57254902, 0.55686275, 0.49803922, 0.52941176,\n",
              "        0.52156863, 0.54901961, 0.54901961, 0.5372549 , 0.52156863,\n",
              "        0.49019608, 0.6627451 , 0.29411765, 0.        , 0.        ,\n",
              "        0.        , 0.        , 0.        ],\n",
              "       [0.        , 0.        , 0.        , 0.        , 0.        ,\n",
              "        0.21176471, 0.65490196, 0.57254902, 0.50588235, 0.55686275,\n",
              "        0.5372549 , 0.5372549 , 0.51372549, 0.58039216, 0.58039216,\n",
              "        0.52156863, 0.51372549, 0.51372549, 0.51372549, 0.49019608,\n",
              "        0.54901961, 0.54901961, 0.        , 0.        , 0.        ,\n",
              "        0.        , 0.        , 0.        ],\n",
              "       [0.        , 0.        , 0.        , 0.        , 0.        ,\n",
              "        0.        , 0.43137255, 0.7372549 , 0.52156863, 0.57254902,\n",
              "        0.59607843, 0.52156863, 0.49019608, 0.49803922, 0.46666667,\n",
              "        0.50588235, 0.52156863, 0.46666667, 0.54901961, 0.51372549,\n",
              "        0.58823529, 0.05490196, 0.        , 0.        , 0.        ,\n",
              "        0.        , 0.        , 0.        ],\n",
              "       [0.        , 0.        , 0.        , 0.        , 0.        ,\n",
              "        0.        , 0.        , 0.86666667, 0.61960784, 0.5372549 ,\n",
              "        0.52941176, 0.48235294, 0.43137255, 0.43137255, 0.44705882,\n",
              "        0.42352941, 0.43921569, 0.45882353, 0.49803922, 0.55686275,\n",
              "        0.30196078, 0.        , 0.        , 0.        , 0.        ,\n",
              "        0.        , 0.        , 0.        ],\n",
              "       [0.        , 0.        , 0.        , 0.        , 0.        ,\n",
              "        0.01568627, 0.        , 0.09803922, 0.61960784, 0.5372549 ,\n",
              "        0.49019608, 0.46666667, 0.46666667, 0.43137255, 0.45882353,\n",
              "        0.45882353, 0.43137255, 0.46666667, 0.49803922, 0.56470588,\n",
              "        0.        , 0.        , 0.        , 0.        , 0.        ,\n",
              "        0.        , 0.        , 0.        ],\n",
              "       [0.        , 0.        , 0.        , 0.        , 0.        ,\n",
              "        0.        , 0.        , 0.        , 0.48235294, 0.61176471,\n",
              "        0.50588235, 0.43921569, 0.43137255, 0.4       , 0.43921569,\n",
              "        0.39215686, 0.4745098 , 0.45882353, 0.50588235, 0.44705882,\n",
              "        0.        , 0.        , 0.        , 0.        , 0.        ,\n",
              "        0.        , 0.        , 0.        ],\n",
              "       [0.        , 0.        , 0.        , 0.        , 0.        ,\n",
              "        0.        , 0.        , 0.        , 0.49019608, 0.6627451 ,\n",
              "        0.49803922, 0.46666667, 0.41568627, 0.42352941, 0.40784314,\n",
              "        0.36862745, 0.4745098 , 0.44705882, 0.50588235, 0.35686275,\n",
              "        0.        , 0.        , 0.        , 0.        , 0.        ,\n",
              "        0.        , 0.        , 0.        ],\n",
              "       [0.        , 0.        , 0.        , 0.        , 0.        ,\n",
              "        0.        , 0.00784314, 0.        , 0.38431373, 0.67058824,\n",
              "        0.50588235, 0.43921569, 0.40784314, 0.44705882, 0.41568627,\n",
              "        0.4       , 0.43921569, 0.40784314, 0.52156863, 0.25098039,\n",
              "        0.        , 0.01568627, 0.        , 0.        , 0.        ,\n",
              "        0.        , 0.        , 0.        ],\n",
              "       [0.        , 0.        , 0.        , 0.        , 0.        ,\n",
              "        0.        , 0.00784314, 0.        , 0.25882353, 0.67843137,\n",
              "        0.52941176, 0.50588235, 0.38431373, 0.39215686, 0.46666667,\n",
              "        0.4       , 0.42352941, 0.38431373, 0.52941176, 0.23529412,\n",
              "        0.        , 0.01568627, 0.        , 0.        , 0.        ,\n",
              "        0.        , 0.        , 0.        ],\n",
              "       [0.        , 0.        , 0.        , 0.        , 0.        ,\n",
              "        0.        , 0.00784314, 0.        , 0.21960784, 0.67058824,\n",
              "        0.52941176, 0.49803922, 0.39215686, 0.42352941, 0.45882353,\n",
              "        0.33333333, 0.41568627, 0.43137255, 0.52941176, 0.25882353,\n",
              "        0.        , 0.01568627, 0.        , 0.        , 0.        ,\n",
              "        0.        , 0.        , 0.        ],\n",
              "       [0.        , 0.        , 0.        , 0.        , 0.        ,\n",
              "        0.        , 0.        , 0.        , 0.20392157, 0.58823529,\n",
              "        0.50588235, 0.43137255, 0.39215686, 0.35686275, 0.4       ,\n",
              "        0.36862745, 0.3254902 , 0.40784314, 0.48235294, 0.25882353,\n",
              "        0.        , 0.01568627, 0.        , 0.        , 0.        ,\n",
              "        0.        , 0.        , 0.        ],\n",
              "       [0.        , 0.        , 0.        , 0.        , 0.        ,\n",
              "        0.        , 0.00784314, 0.        , 0.25882353, 0.65490196,\n",
              "        0.54901961, 0.58039216, 0.58039216, 0.49803922, 0.5372549 ,\n",
              "        0.59607843, 0.57254902, 0.57254902, 0.58039216, 0.37647059,\n",
              "        0.        , 0.        , 0.        , 0.        , 0.        ,\n",
              "        0.        , 0.        , 0.        ],\n",
              "       [0.        , 0.        , 0.        , 0.        , 0.        ,\n",
              "        0.        , 0.        , 0.        , 0.17647059, 0.48235294,\n",
              "        0.36862745, 0.40784314, 0.37647059, 0.46666667, 0.4745098 ,\n",
              "        0.41568627, 0.38431373, 0.43921569, 0.34117647, 0.44705882,\n",
              "        0.        , 0.        , 0.        , 0.        , 0.        ,\n",
              "        0.        , 0.        , 0.        ],\n",
              "       [0.        , 0.        , 0.        , 0.        , 0.        ,\n",
              "        0.        , 0.        , 0.        , 0.41568627, 0.34901961,\n",
              "        0.22745098, 0.19607843, 0.14509804, 0.19607843, 0.25882353,\n",
              "        0.21960784, 0.19607843, 0.29411765, 0.29411765, 0.5372549 ,\n",
              "        0.08627451, 0.        , 0.00784314, 0.        , 0.        ,\n",
              "        0.        , 0.        , 0.        ],\n",
              "       [0.        , 0.        , 0.        , 0.        , 0.        ,\n",
              "        0.00784314, 0.        , 0.11372549, 0.58039216, 0.44705882,\n",
              "        0.41568627, 0.49019608, 0.34901961, 0.39215686, 0.52156863,\n",
              "        0.45882353, 0.51372549, 0.51372549, 0.51372549, 0.49019608,\n",
              "        0.43921569, 0.        , 0.        , 0.        , 0.        ,\n",
              "        0.        , 0.        , 0.        ],\n",
              "       [0.        , 0.        , 0.        , 0.        , 0.        ,\n",
              "        0.        , 0.        , 0.39215686, 0.41568627, 0.44705882,\n",
              "        0.35686275, 0.5372549 , 0.24313725, 0.4       , 0.51372549,\n",
              "        0.34901961, 0.52941176, 0.43921569, 0.51372549, 0.42352941,\n",
              "        0.52941176, 0.14509804, 0.        , 0.        , 0.        ,\n",
              "        0.        , 0.        , 0.        ],\n",
              "       [0.        , 0.        , 0.        , 0.        , 0.        ,\n",
              "        0.        , 0.        , 0.57254902, 0.39215686, 0.42352941,\n",
              "        0.38431373, 0.56470588, 0.24313725, 0.41568627, 0.51372549,\n",
              "        0.34117647, 0.52156863, 0.40784314, 0.62745098, 0.45882353,\n",
              "        0.4745098 , 0.26666667, 0.        , 0.        , 0.        ,\n",
              "        0.        , 0.        , 0.        ],\n",
              "       [0.        , 0.        , 0.        , 0.        , 0.        ,\n",
              "        0.        , 0.12941176, 0.4745098 , 0.42352941, 0.37647059,\n",
              "        0.39215686, 0.54901961, 0.27843137, 0.41568627, 0.49803922,\n",
              "        0.33333333, 0.54901961, 0.40784314, 0.58823529, 0.54901961,\n",
              "        0.44705882, 0.34901961, 0.        , 0.        , 0.        ,\n",
              "        0.        , 0.        , 0.        ],\n",
              "       [0.        , 0.        , 0.        , 0.        , 0.        ,\n",
              "        0.        , 0.24313725, 0.46666667, 0.43921569, 0.4       ,\n",
              "        0.43137255, 0.5372549 , 0.29411765, 0.41568627, 0.56470588,\n",
              "        0.31764706, 0.56470588, 0.42352941, 0.45882353, 0.60392157,\n",
              "        0.45882353, 0.40784314, 0.07058824, 0.        , 0.        ,\n",
              "        0.        , 0.        , 0.        ],\n",
              "       [0.        , 0.        , 0.        , 0.        , 0.        ,\n",
              "        0.        , 0.25882353, 0.4745098 , 0.4       , 0.43921569,\n",
              "        0.45882353, 0.51372549, 0.28627451, 0.40784314, 0.61176471,\n",
              "        0.30196078, 0.5372549 , 0.52941176, 0.3254902 , 0.70196078,\n",
              "        0.50588235, 0.4745098 , 0.1372549 , 0.        , 0.        ,\n",
              "        0.        , 0.        , 0.        ],\n",
              "       [0.        , 0.        , 0.        , 0.        , 0.        ,\n",
              "        0.        , 0.33333333, 0.49803922, 0.31764706, 0.49019608,\n",
              "        0.52156863, 0.46666667, 0.30980392, 0.39215686, 0.6627451 ,\n",
              "        0.3254902 , 0.50588235, 0.68627451, 0.23529412, 0.63921569,\n",
              "        0.52941176, 0.57254902, 0.15294118, 0.        , 0.        ,\n",
              "        0.        , 0.        , 0.        ],\n",
              "       [0.        , 0.        , 0.        , 0.        , 0.        ,\n",
              "        0.        , 0.41568627, 0.50588235, 0.24313725, 0.54901961,\n",
              "        0.56470588, 0.42352941, 0.33333333, 0.3254902 , 0.61960784,\n",
              "        0.33333333, 0.50588235, 0.68627451, 0.18823529, 0.57254902,\n",
              "        0.52156863, 0.52941176, 0.25098039, 0.        , 0.        ,\n",
              "        0.        , 0.        , 0.        ],\n",
              "       [0.        , 0.        , 0.        , 0.        , 0.        ,\n",
              "        0.        , 0.45882353, 0.46666667, 0.30980392, 0.54901961,\n",
              "        0.59607843, 0.4       , 0.34901961, 0.43137255, 0.5372549 ,\n",
              "        0.37647059, 0.58823529, 0.76862745, 0.3254902 , 0.56470588,\n",
              "        0.52941176, 0.52156863, 0.30196078, 0.        , 0.        ,\n",
              "        0.        , 0.        , 0.        ],\n",
              "       [0.        , 0.        , 0.        , 0.        , 0.        ,\n",
              "        0.        , 0.60392157, 0.4745098 , 0.34117647, 0.54901961,\n",
              "        0.60392157, 0.43921569, 0.36862745, 0.20392157, 0.55686275,\n",
              "        0.39215686, 0.3254902 , 0.59607843, 0.33333333, 0.62745098,\n",
              "        0.52156863, 0.39215686, 0.04705882, 0.        , 0.        ,\n",
              "        0.        , 0.        , 0.        ],\n",
              "       [0.        , 0.        , 0.        , 0.        , 0.        ,\n",
              "        0.        , 0.01568627, 0.        , 0.00784314, 0.        ,\n",
              "        0.1372549 , 0.01568627, 0.12941176, 0.        , 0.        ,\n",
              "        0.        , 0.        , 0.        , 0.        , 0.        ,\n",
              "        0.        , 0.        , 0.        , 0.        , 0.        ,\n",
              "        0.        , 0.        , 0.        ]])"
            ]
          },
          "metadata": {
            "tags": []
          },
          "execution_count": 10
        }
      ]
    },
    {
      "cell_type": "code",
      "metadata": {
        "id": "urx15jWvwq6h"
      },
      "source": [
        "#Encoding the labels using np_utils\r\n",
        "y_train = np_utils.to_categorical(y_train,10)\r\n",
        "y_test = np_utils.to_categorical(y_test,10)"
      ],
      "execution_count": 11,
      "outputs": []
    },
    {
      "cell_type": "code",
      "metadata": {
        "id": "SzDPXz2fy3Eg"
      },
      "source": [
        "#reshaping our images from 28,28 to (28,28,1) where 1 represents the channel or the depth\r\n",
        "x_train = x_train.reshape(x_train.shape[0],28,28,1)\r\n",
        "x_test = x_test.reshape(x_test.shape[0],28,28,1)"
      ],
      "execution_count": 12,
      "outputs": []
    },
    {
      "cell_type": "code",
      "metadata": {
        "colab": {
          "base_uri": "https://localhost:8080/"
        },
        "id": "EYnnkX-szMb5",
        "outputId": "79233477-2e88-418d-a310-7659286a41ee"
      },
      "source": [
        "x_train.shape"
      ],
      "execution_count": 13,
      "outputs": [
        {
          "output_type": "execute_result",
          "data": {
            "text/plain": [
              "(60000, 28, 28, 1)"
            ]
          },
          "metadata": {
            "tags": []
          },
          "execution_count": 13
        }
      ]
    },
    {
      "cell_type": "code",
      "metadata": {
        "colab": {
          "base_uri": "https://localhost:8080/"
        },
        "id": "KIgWkB4Mw8Ne",
        "outputId": "707a0a58-0a5b-4013-8d45-100d420c8dfa"
      },
      "source": [
        "y_train[3]"
      ],
      "execution_count": 14,
      "outputs": [
        {
          "output_type": "execute_result",
          "data": {
            "text/plain": [
              "array([0., 0., 0., 1., 0., 0., 0., 0., 0., 0.], dtype=float32)"
            ]
          },
          "metadata": {
            "tags": []
          },
          "execution_count": 14
        }
      ]
    },
    {
      "cell_type": "code",
      "metadata": {
        "id": "jTf-nj7Rw9z-"
      },
      "source": [
        "#Building our Convolution neural network\r\n",
        "model = Sequential()"
      ],
      "execution_count": 15,
      "outputs": []
    },
    {
      "cell_type": "code",
      "metadata": {
        "id": "I2UfWhllxTbc"
      },
      "source": [
        "model.add(Conv2D(32,(3,3),activation='relu',input_shape = (28,28,1)))  #building a convolution layer by giving the input no.of kernels and kernel size and the input shape\r\n",
        "model.add(MaxPooling2D(2,2)) # Adding the maxpooling layer to extract the features as well as to reduce the size of the image\r\n",
        "model.add(Conv2D(16,(2,2),activation='relu')) # adding the 2nd Conv layer\r\n",
        "model.add(MaxPooling2D(2,2))\r\n",
        "model.add(Flatten())  #flatten will reshape our n dim array to 1d vector. The input require for the fully connected neural network\r\n",
        "model.add(Dense(32,activation='relu')) #fully connected layer\r\n",
        "model.add(Dense(32,activation='relu'))\r\n",
        "model.add(Dense(10,activation='softmax')) #output layer"
      ],
      "execution_count": 16,
      "outputs": []
    },
    {
      "cell_type": "code",
      "metadata": {
        "colab": {
          "base_uri": "https://localhost:8080/"
        },
        "id": "3iW-8Iabx9ul",
        "outputId": "69fcf5a6-8cba-4d2b-fa31-ba45faed27b0"
      },
      "source": [
        "model.summary()"
      ],
      "execution_count": 17,
      "outputs": [
        {
          "output_type": "stream",
          "text": [
            "Model: \"sequential\"\n",
            "_________________________________________________________________\n",
            "Layer (type)                 Output Shape              Param #   \n",
            "=================================================================\n",
            "conv2d (Conv2D)              (None, 26, 26, 32)        320       \n",
            "_________________________________________________________________\n",
            "max_pooling2d (MaxPooling2D) (None, 13, 13, 32)        0         \n",
            "_________________________________________________________________\n",
            "conv2d_1 (Conv2D)            (None, 12, 12, 16)        2064      \n",
            "_________________________________________________________________\n",
            "max_pooling2d_1 (MaxPooling2 (None, 6, 6, 16)          0         \n",
            "_________________________________________________________________\n",
            "flatten (Flatten)            (None, 576)               0         \n",
            "_________________________________________________________________\n",
            "dense (Dense)                (None, 32)                18464     \n",
            "_________________________________________________________________\n",
            "dense_1 (Dense)              (None, 32)                1056      \n",
            "_________________________________________________________________\n",
            "dense_2 (Dense)              (None, 10)                330       \n",
            "=================================================================\n",
            "Total params: 22,234\n",
            "Trainable params: 22,234\n",
            "Non-trainable params: 0\n",
            "_________________________________________________________________\n"
          ],
          "name": "stdout"
        }
      ]
    },
    {
      "cell_type": "code",
      "metadata": {
        "id": "WU0p3ZAYzd5E"
      },
      "source": [
        "model.compile(loss = 'categorical_crossentropy',optimizer='adam',metrics='accuracy')"
      ],
      "execution_count": 18,
      "outputs": []
    },
    {
      "cell_type": "code",
      "metadata": {
        "colab": {
          "base_uri": "https://localhost:8080/"
        },
        "id": "MLsMnitM2k9Z",
        "outputId": "4dc80916-7a0f-4c23-fb76-94f961711026"
      },
      "source": [
        "history = model.fit(x_train,y_train,batch_size = 200, epochs = 10)"
      ],
      "execution_count": 19,
      "outputs": [
        {
          "output_type": "stream",
          "text": [
            "Epoch 1/10\n",
            "300/300 [==============================] - 8s 4ms/step - loss: 1.1731 - accuracy: 0.5685\n",
            "Epoch 2/10\n",
            "300/300 [==============================] - 1s 4ms/step - loss: 0.4419 - accuracy: 0.8408\n",
            "Epoch 3/10\n",
            "300/300 [==============================] - 1s 4ms/step - loss: 0.3939 - accuracy: 0.8587\n",
            "Epoch 4/10\n",
            "300/300 [==============================] - 1s 4ms/step - loss: 0.3543 - accuracy: 0.8732\n",
            "Epoch 5/10\n",
            "300/300 [==============================] - 1s 4ms/step - loss: 0.3250 - accuracy: 0.8818\n",
            "Epoch 6/10\n",
            "300/300 [==============================] - 1s 4ms/step - loss: 0.3184 - accuracy: 0.8843\n",
            "Epoch 7/10\n",
            "300/300 [==============================] - 1s 4ms/step - loss: 0.3020 - accuracy: 0.8899\n",
            "Epoch 8/10\n",
            "300/300 [==============================] - 1s 4ms/step - loss: 0.2938 - accuracy: 0.8941\n",
            "Epoch 9/10\n",
            "300/300 [==============================] - 1s 4ms/step - loss: 0.2781 - accuracy: 0.8998\n",
            "Epoch 10/10\n",
            "300/300 [==============================] - 1s 4ms/step - loss: 0.2754 - accuracy: 0.9005\n"
          ],
          "name": "stdout"
        }
      ]
    },
    {
      "cell_type": "code",
      "metadata": {
        "colab": {
          "base_uri": "https://localhost:8080/"
        },
        "id": "wPN6XbKY2qvN",
        "outputId": "85066f76-049b-4027-9383-a75bdea2eccf"
      },
      "source": [
        "#evaluating our test data\r\n",
        "model.evaluate(x_test,y_test)"
      ],
      "execution_count": 20,
      "outputs": [
        {
          "output_type": "stream",
          "text": [
            "313/313 [==============================] - 1s 2ms/step - loss: 0.3093 - accuracy: 0.8877\n"
          ],
          "name": "stdout"
        },
        {
          "output_type": "execute_result",
          "data": {
            "text/plain": [
              "[0.30930590629577637, 0.8877000212669373]"
            ]
          },
          "metadata": {
            "tags": []
          },
          "execution_count": 20
        }
      ]
    },
    {
      "cell_type": "code",
      "metadata": {
        "colab": {
          "base_uri": "https://localhost:8080/",
          "height": 282
        },
        "id": "gy1x2vaA2_7M",
        "outputId": "926cdb24-c4e8-4b88-da18-6b8d6f4ba64a"
      },
      "source": [
        "#plotting our accuracy\r\n",
        "plt.plot(history.history['accuracy'])"
      ],
      "execution_count": 21,
      "outputs": [
        {
          "output_type": "execute_result",
          "data": {
            "text/plain": [
              "[<matplotlib.lines.Line2D at 0x7f82ff74de10>]"
            ]
          },
          "metadata": {
            "tags": []
          },
          "execution_count": 21
        },
        {
          "output_type": "display_data",
          "data": {
            "image/png": "[encoded data removed]",
            "text/plain": [
              "<Figure size 432x288 with 1 Axes>"
            ]
          },
          "metadata": {
            "tags": [],
            "needs_background": "light"
          }
        }
      ]
    },
    {
      "cell_type": "code",
      "metadata": {
        "id": "fV6jGedf34ir"
      },
      "source": [
        "#predicting the model\r\n",
        "prediction = model.predict(x_test)"
      ],
      "execution_count": 22,
      "outputs": []
    },
    {
      "cell_type": "code",
      "metadata": {
        "colab": {
          "base_uri": "https://localhost:8080/"
        },
        "id": "rLznkwI14C-7",
        "outputId": "35494150-a09b-429b-db42-0a24d092c426"
      },
      "source": [
        "#rounding our output to the exact number\r\n",
        "print(np.argmax(np.round(prediction[550])))"
      ],
      "execution_count": 23,
      "outputs": [
        {
          "output_type": "stream",
          "text": [
            "6\n"
          ],
          "name": "stdout"
        }
      ]
    },
    {
      "cell_type": "code",
      "metadata": {
        "colab": {
          "base_uri": "https://localhost:8080/",
          "height": 265
        },
        "id": "9Wlr3hnn4Lx1",
        "outputId": "31888d68-f367-48ee-cfd5-4d1dddb46131"
      },
      "source": [
        "#plotting our test for verification\r\n",
        "plt.imshow(x_test[550].reshape(28,28),cmap = 'gray')\r\n",
        "plt.show()"
      ],
      "execution_count": 24,
      "outputs": [
        {
          "output_type": "display_data",
          "data": {
            "image/png": "[encoded data removed]",
            "text/plain": [
              "<Figure size 432x288 with 1 Axes>"
            ]
          },
          "metadata": {
            "tags": [],
            "needs_background": "light"
          }
        }
      ]
    },
    {
      "cell_type": "code",
      "metadata": {
        "id": "l07xEnCK4atc"
      },
      "source": [
        ""
      ],
      "execution_count": 24,
      "outputs": []
    }
  ]
}