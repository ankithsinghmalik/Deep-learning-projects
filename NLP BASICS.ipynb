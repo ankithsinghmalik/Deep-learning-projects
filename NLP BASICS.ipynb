{
 "cells": [
  {
   "cell_type": "code",
   "execution_count": 1,
   "metadata": {},
   "outputs": [],
   "source": [
    "import nltk"
   ]
  },
  {
   "cell_type": "code",
   "execution_count": 2,
   "metadata": {},
   "outputs": [
    {
     "name": "stdout",
     "output_type": "stream",
     "text": [
      "showing info https://raw.githubusercontent.com/nltk/nltk_data/gh-pages/index.xml\n"
     ]
    },
    {
     "data": {
      "text/plain": [
       "True"
      ]
     },
     "execution_count": 2,
     "metadata": {},
     "output_type": "execute_result"
    }
   ],
   "source": [
    "nltk.download()"
   ]
  },
  {
   "cell_type": "code",
   "execution_count": 3,
   "metadata": {},
   "outputs": [],
   "source": [
    "from nltk.tokenize import sent_tokenize, word_tokenize"
   ]
  },
  {
   "cell_type": "code",
   "execution_count": 9,
   "metadata": {},
   "outputs": [
    {
     "name": "stdout",
     "output_type": "stream",
     "text": [
      "['Hello students, how are you doing today?', 'The weekend was really good for everyone, and i am expecting everyone to put some good work in this week.', 'And also finish few projects.']\n"
     ]
    }
   ],
   "source": [
    "#performing sentence tokenization\n",
    "\n",
    "text = \"Hello students, how are you doing today? The weekend was really good for everyone, and i am expecting everyone to put some good work in this week. And also finish few projects.\"\n",
    "\n",
    "print(sent_tokenize(text))"
   ]
  },
  {
   "cell_type": "code",
   "execution_count": 10,
   "metadata": {},
   "outputs": [
    {
     "name": "stdout",
     "output_type": "stream",
     "text": [
      "['Hello', 'students', ',', 'how', 'are', 'you', 'doing', 'today', '?', 'The', 'weekend', 'was', 'really', 'good', 'for', 'everyone', ',', 'and', 'i', 'am', 'expecting', 'everyone', 'to', 'put', 'some', 'good', 'work', 'in', 'this', 'week', '.', 'And', 'also', 'finish', 'few', 'projects', '.']\n"
     ]
    }
   ],
   "source": [
    "#tokenizing the sentence to words\n",
    "print(word_tokenize(text))"
   ]
  },
  {
   "cell_type": "code",
   "execution_count": 13,
   "metadata": {
    "scrolled": true
   },
   "outputs": [
    {
     "name": "stdout",
     "output_type": "stream",
     "text": [
      "{\"she's\", 'just', 'off', 'what', \"weren't\", 'ourselves', 'doing', 'but', 'am', \"you're\", 'their', \"hadn't\", 'all', 'himself', 'against', 'wouldn', 'who', 'further', 'how', 'or', 'did', 'nor', 'be', 'own', 'll', 'won', 'o', \"couldn't\", 'of', 'not', \"wasn't\", 'has', 'those', 'an', 'during', 'only', 'don', 'down', 'can', 'such', 'these', 'at', 'other', 'he', \"shan't\", 'by', 'into', \"isn't\", 'any', 'between', 'aren', 'same', 'should', 'over', 'as', 've', 'whom', 'again', 'that', \"aren't\", \"didn't\", \"mustn't\", 'couldn', 'most', 'while', 'now', 'ain', 'each', 'under', 'than', 'and', \"needn't\", 'haven', 'they', 'why', 'ma', 'which', 'does', 'below', \"you'll\", 'in', 'we', 'no', 'her', 'your', 'both', 'weren', 'few', 'shouldn', 'once', 'to', 'd', 'there', \"hasn't\", 'were', \"you've\", 'are', 't', \"don't\", \"shouldn't\", \"it's\", 'very', 're', \"wouldn't\", 's', 'out', 'here', 'having', 'me', 'his', 'the', 'on', 'about', 'had', 'its', \"should've\", 'it', 'you', 'up', 'ours', 'yours', \"you'd\", 'she', 'above', 'him', 'with', 'herself', \"that'll\", 'theirs', 'when', 'i', 'didn', 'from', 'mightn', 'do', 'wasn', \"won't\", 'this', 'm', 'doesn', 'being', 'mustn', \"haven't\", 'some', 'if', 'yourselves', 'for', 'our', 'so', 'then', 'needn', 'through', 'myself', 'hers', 'my', \"mightn't\", 'after', 'a', 'because', 'hasn', \"doesn't\", 'before', 'where', 'more', 'have', 'isn', 'shan', 'themselves', 'too', 'been', 'until', 'was', 'will', 'hadn', 'is', 'itself', 'y', 'yourself', 'them'}\n"
     ]
    }
   ],
   "source": [
    "from nltk.corpus import stopwords\n",
    "print(set(stopwords.words(\"english\")))"
   ]
  },
  {
   "cell_type": "code",
   "execution_count": 14,
   "metadata": {},
   "outputs": [],
   "source": [
    "stop_words  =set(stopwords.words(\"english\"))"
   ]
  },
  {
   "cell_type": "code",
   "execution_count": 15,
   "metadata": {},
   "outputs": [],
   "source": [
    "word_tokens = word_tokenize(text)"
   ]
  },
  {
   "cell_type": "code",
   "execution_count": 16,
   "metadata": {},
   "outputs": [],
   "source": [
    "#removing stop words from the sentence\n",
    "sent_Withoutstopwords = [w for w in word_tokens if not w in stop_words]"
   ]
  },
  {
   "cell_type": "code",
   "execution_count": 17,
   "metadata": {},
   "outputs": [
    {
     "name": "stdout",
     "output_type": "stream",
     "text": [
      "['Hello', 'students', ',', 'how', 'are', 'you', 'doing', 'today', '?', 'The', 'weekend', 'was', 'really', 'good', 'for', 'everyone', ',', 'and', 'i', 'am', 'expecting', 'everyone', 'to', 'put', 'some', 'good', 'work', 'in', 'this', 'week', '.', 'And', 'also', 'finish', 'few', 'projects', '.']\n",
      "['Hello', 'students', ',', 'today', '?', 'The', 'weekend', 'really', 'good', 'everyone', ',', 'expecting', 'everyone', 'put', 'good', 'work', 'week', '.', 'And', 'also', 'finish', 'projects', '.']\n"
     ]
    }
   ],
   "source": [
    "print(word_tokens)\n",
    "print(sent_Withoutstopwords)"
   ]
  },
  {
   "cell_type": "code",
   "execution_count": 18,
   "metadata": {},
   "outputs": [],
   "source": [
    "from nltk.stem import PorterStemmer"
   ]
  },
  {
   "cell_type": "code",
   "execution_count": 19,
   "metadata": {},
   "outputs": [],
   "source": [
    "#loading the instance of stemming\n",
    "ps = PorterStemmer()"
   ]
  },
  {
   "cell_type": "code",
   "execution_count": 20,
   "metadata": {},
   "outputs": [],
   "source": [
    "words = ['play','playing','playful','player','plays','played']"
   ]
  },
  {
   "cell_type": "code",
   "execution_count": 21,
   "metadata": {},
   "outputs": [
    {
     "name": "stdout",
     "output_type": "stream",
     "text": [
      "play\n",
      "play\n",
      "play\n",
      "player\n",
      "play\n",
      "play\n"
     ]
    }
   ],
   "source": [
    "#\n",
    "for w in words:\n",
    "    print(ps.stem(w))"
   ]
  },
  {
   "cell_type": "code",
   "execution_count": 22,
   "metadata": {},
   "outputs": [],
   "source": [
    "new_text = \"when player are playing the game, they often think of how well the game can be played, and give their best which playing\""
   ]
  },
  {
   "cell_type": "code",
   "execution_count": 23,
   "metadata": {},
   "outputs": [],
   "source": [
    "new_token = word_tokenize(new_text)"
   ]
  },
  {
   "cell_type": "code",
   "execution_count": 24,
   "metadata": {},
   "outputs": [
    {
     "name": "stdout",
     "output_type": "stream",
     "text": [
      "when\n",
      "player\n",
      "are\n",
      "play\n",
      "the\n",
      "game\n",
      ",\n",
      "they\n",
      "often\n",
      "think\n",
      "of\n",
      "how\n",
      "well\n",
      "the\n",
      "game\n",
      "can\n",
      "be\n",
      "play\n",
      ",\n",
      "and\n",
      "give\n",
      "their\n",
      "best\n",
      "which\n",
      "play\n"
     ]
    }
   ],
   "source": [
    "for i in new_token:\n",
    "    print(ps.stem(i))"
   ]
  },
  {
   "cell_type": "code",
   "execution_count": 31,
   "metadata": {},
   "outputs": [],
   "source": [
    "for k in words:\n",
    "    tags = nltk.pos_tag(k)"
   ]
  },
  {
   "cell_type": "code",
   "execution_count": 30,
   "metadata": {},
   "outputs": [
    {
     "name": "stdout",
     "output_type": "stream",
     "text": [
      "[('p', 'NN'), ('l', 'VBZ'), ('a', 'DT'), ('y', 'NN'), ('e', 'NN'), ('d', 'NN')]\n"
     ]
    }
   ],
   "source": [
    "print(tags)"
   ]
  },
  {
   "cell_type": "code",
   "execution_count": 32,
   "metadata": {},
   "outputs": [],
   "source": [
    "words_1 = ['ride','rider','player','playing']"
   ]
  },
  {
   "cell_type": "code",
   "execution_count": 33,
   "metadata": {},
   "outputs": [],
   "source": [
    "for j in words_1:\n",
    "    new_tag = nltk.pos_tag(j)"
   ]
  },
  {
   "cell_type": "code",
   "execution_count": 34,
   "metadata": {},
   "outputs": [
    {
     "name": "stdout",
     "output_type": "stream",
     "text": [
      "[('p', 'NN'), ('l', 'VBZ'), ('a', 'DT'), ('y', 'NN'), ('i', 'NN'), ('n', 'VBP'), ('g', 'NN')]\n"
     ]
    }
   ],
   "source": [
    "print(new_tag)"
   ]
  },
  {
   "cell_type": "code",
   "execution_count": 35,
   "metadata": {},
   "outputs": [],
   "source": [
    "sent_tokenized = sent_tokenize(text)"
   ]
  },
  {
   "cell_type": "code",
   "execution_count": 36,
   "metadata": {},
   "outputs": [
    {
     "name": "stdout",
     "output_type": "stream",
     "text": [
      "[('Hello', 'NNP'), ('students', 'NNS'), (',', ','), ('how', 'WRB'), ('are', 'VBP'), ('you', 'PRP'), ('doing', 'VBG'), ('today', 'NN'), ('?', '.')]\n",
      "[('The', 'DT'), ('weekend', 'NN'), ('was', 'VBD'), ('really', 'RB'), ('good', 'JJ'), ('for', 'IN'), ('everyone', 'NN'), (',', ','), ('and', 'CC'), ('i', 'VB'), ('am', 'VBP'), ('expecting', 'VBG'), ('everyone', 'NN'), ('to', 'TO'), ('put', 'VB'), ('some', 'DT'), ('good', 'JJ'), ('work', 'NN'), ('in', 'IN'), ('this', 'DT'), ('week', 'NN'), ('.', '.')]\n",
      "[('And', 'CC'), ('also', 'RB'), ('finish', 'JJ'), ('few', 'JJ'), ('projects', 'NNS'), ('.', '.')]\n"
     ]
    }
   ],
   "source": [
    "for l in sent_tokenized:\n",
    "    new_words2 = nltk.word_tokenize(l)\n",
    "    tagged_Words = nltk.pos_tag(new_words2)\n",
    "    print(tagged_Words)"
   ]
  },
  {
   "cell_type": "code",
   "execution_count": 37,
   "metadata": {},
   "outputs": [],
   "source": [
    "sent_tokenized_1 = sent_tokenize(new_text)"
   ]
  },
  {
   "cell_type": "code",
   "execution_count": 38,
   "metadata": {},
   "outputs": [
    {
     "name": "stdout",
     "output_type": "stream",
     "text": [
      "[('when', 'WRB'), ('player', 'NN'), ('are', 'VBP'), ('playing', 'VBG'), ('the', 'DT'), ('game', 'NN'), (',', ','), ('they', 'PRP'), ('often', 'RB'), ('think', 'VBP'), ('of', 'IN'), ('how', 'WRB'), ('well', 'RB'), ('the', 'DT'), ('game', 'NN'), ('can', 'MD'), ('be', 'VB'), ('played', 'VBN'), (',', ','), ('and', 'CC'), ('give', 'VB'), ('their', 'PRP$'), ('best', 'JJS'), ('which', 'WDT'), ('playing', 'VBG')]\n"
     ]
    }
   ],
   "source": [
    "for n in sent_tokenized_1:\n",
    "    new_words3 = nltk.word_tokenize(n)\n",
    "    tagged_words_1 = nltk.pos_tag(new_words3)\n",
    "    print(tagged_words_1)"
   ]
  },
  {
   "cell_type": "code",
   "execution_count": null,
   "metadata": {},
   "outputs": [],
   "source": []
  }
 ],
 "metadata": {
  "kernelspec": {
   "display_name": "Python 3",
   "language": "python",
   "name": "python3"
  },
  "language_info": {
   "codemirror_mode": {
    "name": "ipython",
    "version": 3
   },
   "file_extension": ".py",
   "mimetype": "text/x-python",
   "name": "python",
   "nbconvert_exporter": "python",
   "pygments_lexer": "ipython3",
   "version": "3.8.5"
  }
 },
 "nbformat": 4,
 "nbformat_minor": 2
}
