{
  "nbformat": 4,
  "nbformat_minor": 0,
  "metadata": {
    "colab": {
      "name": "IMDB Sentiment Analysis.ipynb",
      "provenance": []
    },
    "kernelspec": {
      "name": "python3",
      "display_name": "Python 3"
    },
    "accelerator": "GPU"
  },
  "cells": [
    {
      "cell_type": "code",
      "metadata": {
        "id": "0Hh9lpTW5Ky7"
      },
      "source": [
        "#loading all the dependencies\r\n",
        "import numpy as np\r\n",
        "import matplotlib.pyplot as plt\r\n",
        "from tensorflow.keras.datasets import imdb\r\n",
        "from tensorflow.keras.models import Sequential\r\n",
        "from tensorflow.keras.layers import Dense,Embedding,LSTM\r\n",
        "from tensorflow.keras.preprocessing import sequence"
      ],
      "execution_count": 14,
      "outputs": []
    },
    {
      "cell_type": "code",
      "metadata": {
        "colab": {
          "base_uri": "https://localhost:8080/"
        },
        "id": "5oDE_KN77YSY",
        "outputId": "158e1527-d2f7-4ceb-d784-d74bd549a0ea"
      },
      "source": [
        "#loading the data\r\n",
        "(x_train,y_train),(x_test,y_test) = imdb.load_data(num_words = 20000)"
      ],
      "execution_count": 2,
      "outputs": [
        {
          "output_type": "stream",
          "text": [
            "Downloading data from https://storage.googleapis.com/tensorflow/tf-keras-datasets/imdb.npz\n",
            "17465344/17464789 [==============================] - 0s 0us/step\n"
          ],
          "name": "stdout"
        },
        {
          "output_type": "stream",
          "text": [
            "<string>:6: VisibleDeprecationWarning: Creating an ndarray from ragged nested sequences (which is a list-or-tuple of lists-or-tuples-or ndarrays with different lengths or shapes) is deprecated. If you meant to do this, you must specify 'dtype=object' when creating the ndarray\n",
            "/usr/local/lib/python3.6/dist-packages/tensorflow/python/keras/datasets/imdb.py:159: VisibleDeprecationWarning: Creating an ndarray from ragged nested sequences (which is a list-or-tuple of lists-or-tuples-or ndarrays with different lengths or shapes) is deprecated. If you meant to do this, you must specify 'dtype=object' when creating the ndarray\n",
            "  x_train, y_train = np.array(xs[:idx]), np.array(labels[:idx])\n",
            "/usr/local/lib/python3.6/dist-packages/tensorflow/python/keras/datasets/imdb.py:160: VisibleDeprecationWarning: Creating an ndarray from ragged nested sequences (which is a list-or-tuple of lists-or-tuples-or ndarrays with different lengths or shapes) is deprecated. If you meant to do this, you must specify 'dtype=object' when creating the ndarray\n",
            "  x_test, y_test = np.array(xs[idx:]), np.array(labels[idx:])\n"
          ],
          "name": "stderr"
        }
      ]
    },
    {
      "cell_type": "code",
      "metadata": {
        "colab": {
          "base_uri": "https://localhost:8080/"
        },
        "id": "5B8vdDaM7wLn",
        "outputId": "3b8f81b8-16e5-4a02-f6e0-2e516bf165dd"
      },
      "source": [
        "#checking the data\r\n",
        "x_train[1]"
      ],
      "execution_count": 3,
      "outputs": [
        {
          "output_type": "execute_result",
          "data": {
            "text/plain": [
              "[1,\n",
              " 194,\n",
              " 1153,\n",
              " 194,\n",
              " 8255,\n",
              " 78,\n",
              " 228,\n",
              " 5,\n",
              " 6,\n",
              " 1463,\n",
              " 4369,\n",
              " 5012,\n",
              " 134,\n",
              " 26,\n",
              " 4,\n",
              " 715,\n",
              " 8,\n",
              " 118,\n",
              " 1634,\n",
              " 14,\n",
              " 394,\n",
              " 20,\n",
              " 13,\n",
              " 119,\n",
              " 954,\n",
              " 189,\n",
              " 102,\n",
              " 5,\n",
              " 207,\n",
              " 110,\n",
              " 3103,\n",
              " 21,\n",
              " 14,\n",
              " 69,\n",
              " 188,\n",
              " 8,\n",
              " 30,\n",
              " 23,\n",
              " 7,\n",
              " 4,\n",
              " 249,\n",
              " 126,\n",
              " 93,\n",
              " 4,\n",
              " 114,\n",
              " 9,\n",
              " 2300,\n",
              " 1523,\n",
              " 5,\n",
              " 647,\n",
              " 4,\n",
              " 116,\n",
              " 9,\n",
              " 35,\n",
              " 8163,\n",
              " 4,\n",
              " 229,\n",
              " 9,\n",
              " 340,\n",
              " 1322,\n",
              " 4,\n",
              " 118,\n",
              " 9,\n",
              " 4,\n",
              " 130,\n",
              " 4901,\n",
              " 19,\n",
              " 4,\n",
              " 1002,\n",
              " 5,\n",
              " 89,\n",
              " 29,\n",
              " 952,\n",
              " 46,\n",
              " 37,\n",
              " 4,\n",
              " 455,\n",
              " 9,\n",
              " 45,\n",
              " 43,\n",
              " 38,\n",
              " 1543,\n",
              " 1905,\n",
              " 398,\n",
              " 4,\n",
              " 1649,\n",
              " 26,\n",
              " 6853,\n",
              " 5,\n",
              " 163,\n",
              " 11,\n",
              " 3215,\n",
              " 10156,\n",
              " 4,\n",
              " 1153,\n",
              " 9,\n",
              " 194,\n",
              " 775,\n",
              " 7,\n",
              " 8255,\n",
              " 11596,\n",
              " 349,\n",
              " 2637,\n",
              " 148,\n",
              " 605,\n",
              " 15358,\n",
              " 8003,\n",
              " 15,\n",
              " 123,\n",
              " 125,\n",
              " 68,\n",
              " 2,\n",
              " 6853,\n",
              " 15,\n",
              " 349,\n",
              " 165,\n",
              " 4362,\n",
              " 98,\n",
              " 5,\n",
              " 4,\n",
              " 228,\n",
              " 9,\n",
              " 43,\n",
              " 2,\n",
              " 1157,\n",
              " 15,\n",
              " 299,\n",
              " 120,\n",
              " 5,\n",
              " 120,\n",
              " 174,\n",
              " 11,\n",
              " 220,\n",
              " 175,\n",
              " 136,\n",
              " 50,\n",
              " 9,\n",
              " 4373,\n",
              " 228,\n",
              " 8255,\n",
              " 5,\n",
              " 2,\n",
              " 656,\n",
              " 245,\n",
              " 2350,\n",
              " 5,\n",
              " 4,\n",
              " 9837,\n",
              " 131,\n",
              " 152,\n",
              " 491,\n",
              " 18,\n",
              " 2,\n",
              " 32,\n",
              " 7464,\n",
              " 1212,\n",
              " 14,\n",
              " 9,\n",
              " 6,\n",
              " 371,\n",
              " 78,\n",
              " 22,\n",
              " 625,\n",
              " 64,\n",
              " 1382,\n",
              " 9,\n",
              " 8,\n",
              " 168,\n",
              " 145,\n",
              " 23,\n",
              " 4,\n",
              " 1690,\n",
              " 15,\n",
              " 16,\n",
              " 4,\n",
              " 1355,\n",
              " 5,\n",
              " 28,\n",
              " 6,\n",
              " 52,\n",
              " 154,\n",
              " 462,\n",
              " 33,\n",
              " 89,\n",
              " 78,\n",
              " 285,\n",
              " 16,\n",
              " 145,\n",
              " 95]"
            ]
          },
          "metadata": {
            "tags": []
          },
          "execution_count": 3
        }
      ]
    },
    {
      "cell_type": "code",
      "metadata": {
        "colab": {
          "base_uri": "https://localhost:8080/"
        },
        "id": "vu2skcX-8r4O",
        "outputId": "81d2f2c8-948e-4251-a028-362f76fda464"
      },
      "source": [
        "y_train[1]"
      ],
      "execution_count": 4,
      "outputs": [
        {
          "output_type": "execute_result",
          "data": {
            "text/plain": [
              "0"
            ]
          },
          "metadata": {
            "tags": []
          },
          "execution_count": 4
        }
      ]
    },
    {
      "cell_type": "code",
      "metadata": {
        "colab": {
          "base_uri": "https://localhost:8080/"
        },
        "id": "AtuwD5hm9JDV",
        "outputId": "5c411648-5a99-4813-818e-1dc2edbf3c7f"
      },
      "source": [
        "len(x_train[2])"
      ],
      "execution_count": 5,
      "outputs": [
        {
          "output_type": "execute_result",
          "data": {
            "text/plain": [
              "141"
            ]
          },
          "metadata": {
            "tags": []
          },
          "execution_count": 5
        }
      ]
    },
    {
      "cell_type": "code",
      "metadata": {
        "id": "ufiJ_VTm9ReO"
      },
      "source": [
        "#padding is done to keep all your reviews of same size\r\n",
        "x_train = sequence.pad_sequences(x_train,maxlen = 150)\r\n",
        "x_test = sequence.pad_sequences(x_test, maxlen = 150)"
      ],
      "execution_count": 6,
      "outputs": []
    },
    {
      "cell_type": "code",
      "metadata": {
        "colab": {
          "base_uri": "https://localhost:8080/"
        },
        "id": "zeY21Edf__Tt",
        "outputId": "6aab00a3-15f3-481d-bc6c-f67803def13a"
      },
      "source": [
        "x_train[2]"
      ],
      "execution_count": 7,
      "outputs": [
        {
          "output_type": "execute_result",
          "data": {
            "text/plain": [
              "array([   0,    0,    0,    0,    0,    0,    0,    0,    0,    1,   14,\n",
              "         47,    8,   30,   31,    7,    4,  249,  108,    7,    4, 5974,\n",
              "         54,   61,  369,   13,   71,  149,   14,   22,  112,    4, 2401,\n",
              "        311,   12,   16, 3711,   33,   75,   43, 1829,  296,    4,   86,\n",
              "        320,   35,  534,   19,  263, 4821, 1301,    4, 1873,   33,   89,\n",
              "         78,   12,   66,   16,    4,  360,    7,    4,   58,  316,  334,\n",
              "         11,    4, 1716,   43,  645,  662,    8,  257,   85, 1200,   42,\n",
              "       1228, 2578,   83,   68, 3912,   15,   36,  165, 1539,  278,   36,\n",
              "         69,    2,  780,    8,  106,   14, 6905, 1338,   18,    6,   22,\n",
              "         12,  215,   28,  610,   40,    6,   87,  326,   23, 2300,   21,\n",
              "         23,   22,   12,  272,   40,   57,   31,   11,    4,   22,   47,\n",
              "          6, 2307,   51,    9,  170,   23,  595,  116,  595, 1352,   13,\n",
              "        191,   79,  638,   89,    2,   14,    9,    8,  106,  607,  624,\n",
              "         35,  534,    6,  227,    7,  129,  113], dtype=int32)"
            ]
          },
          "metadata": {
            "tags": []
          },
          "execution_count": 7
        }
      ]
    },
    {
      "cell_type": "code",
      "metadata": {
        "colab": {
          "base_uri": "https://localhost:8080/"
        },
        "id": "DB76Zmr4Aitt",
        "outputId": "8b66c5ef-941e-438d-ecb2-2075bde84cce"
      },
      "source": [
        "x_train.shape"
      ],
      "execution_count": 8,
      "outputs": [
        {
          "output_type": "execute_result",
          "data": {
            "text/plain": [
              "(25000, 150)"
            ]
          },
          "metadata": {
            "tags": []
          },
          "execution_count": 8
        }
      ]
    },
    {
      "cell_type": "code",
      "metadata": {
        "id": "J1FhX6bJAG11"
      },
      "source": [
        "model = Sequential()"
      ],
      "execution_count": 9,
      "outputs": []
    },
    {
      "cell_type": "code",
      "metadata": {
        "id": "PwUuMEivAY4U"
      },
      "source": [
        "#building the model\r\n",
        "model.add(Embedding(20000,64))\r\n",
        "model.add(LSTM(64))\r\n",
        "model.add(Dense(1,activation='sigmoid'))"
      ],
      "execution_count": 10,
      "outputs": []
    },
    {
      "cell_type": "code",
      "metadata": {
        "colab": {
          "base_uri": "https://localhost:8080/"
        },
        "id": "3EiWU5G5EiEG",
        "outputId": "86d789f2-0a9a-44d6-df18-48f6e40ee7a6"
      },
      "source": [
        "model.summary()"
      ],
      "execution_count": 11,
      "outputs": [
        {
          "output_type": "stream",
          "text": [
            "Model: \"sequential\"\n",
            "_________________________________________________________________\n",
            "Layer (type)                 Output Shape              Param #   \n",
            "=================================================================\n",
            "embedding (Embedding)        (None, None, 64)          1280000   \n",
            "_________________________________________________________________\n",
            "lstm (LSTM)                  (None, 64)                33024     \n",
            "_________________________________________________________________\n",
            "dense (Dense)                (None, 1)                 65        \n",
            "=================================================================\n",
            "Total params: 1,313,089\n",
            "Trainable params: 1,313,089\n",
            "Non-trainable params: 0\n",
            "_________________________________________________________________\n"
          ],
          "name": "stdout"
        }
      ]
    },
    {
      "cell_type": "code",
      "metadata": {
        "id": "-snBlkdfDk9V"
      },
      "source": [
        "model.compile(optimizer = 'adam', loss = 'binary_crossentropy',metrics=['accuracy'])"
      ],
      "execution_count": 12,
      "outputs": []
    },
    {
      "cell_type": "code",
      "metadata": {
        "colab": {
          "base_uri": "https://localhost:8080/"
        },
        "id": "tiknijbwD3Ua",
        "outputId": "bf447157-b76d-4688-83ab-97c233ac7d69"
      },
      "source": [
        "history = model.fit(x_train,y_train,batch_size = 100, epochs=10)"
      ],
      "execution_count": 13,
      "outputs": [
        {
          "output_type": "stream",
          "text": [
            "Epoch 1/10\n",
            "250/250 [==============================] - 13s 22ms/step - loss: 0.5424 - accuracy: 0.7108\n",
            "Epoch 2/10\n",
            "250/250 [==============================] - 5s 22ms/step - loss: 0.2046 - accuracy: 0.9252\n",
            "Epoch 3/10\n",
            "250/250 [==============================] - 5s 21ms/step - loss: 0.1252 - accuracy: 0.9586\n",
            "Epoch 4/10\n",
            "250/250 [==============================] - 5s 21ms/step - loss: 0.0824 - accuracy: 0.9727\n",
            "Epoch 5/10\n",
            "250/250 [==============================] - 5s 22ms/step - loss: 0.0553 - accuracy: 0.9830\n",
            "Epoch 6/10\n",
            "250/250 [==============================] - 5s 21ms/step - loss: 0.0457 - accuracy: 0.9858\n",
            "Epoch 7/10\n",
            "250/250 [==============================] - 5s 21ms/step - loss: 0.0435 - accuracy: 0.9858\n",
            "Epoch 8/10\n",
            "250/250 [==============================] - 5s 21ms/step - loss: 0.0362 - accuracy: 0.9885\n",
            "Epoch 9/10\n",
            "250/250 [==============================] - 5s 21ms/step - loss: 0.0184 - accuracy: 0.9946\n",
            "Epoch 10/10\n",
            "250/250 [==============================] - 5s 22ms/step - loss: 0.0178 - accuracy: 0.9952\n"
          ],
          "name": "stdout"
        }
      ]
    },
    {
      "cell_type": "code",
      "metadata": {
        "id": "hjEaTnEhD9Rk"
      },
      "source": [
        ""
      ],
      "execution_count": 13,
      "outputs": []
    }
  ]
}